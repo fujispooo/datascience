{
 "cells": [
  {
   "cell_type": "code",
   "execution_count": 2,
   "metadata": {},
   "outputs": [],
   "source": [
    "# 便利なモジュールを一通りimportしておきます\n",
    "import numpy as np\n",
    "from numpy.random import randn\n",
    "import pandas as pd\n",
    "\n",
    "# 統計的な機能を実現するモジュール\n",
    "from scipy import stats\n",
    "\n",
    "import matplotlib as mpl\n",
    "import matplotlib.pyplot as plt\n",
    "import seaborn as sns\n",
    "\n",
    "%matplotlib inline"
   ]
  },
  {
   "cell_type": "code",
   "execution_count": 3,
   "metadata": {},
   "outputs": [],
   "source": [
    "# 離散一様分布について"
   ]
  },
  {
   "cell_type": "code",
   "execution_count": 7,
   "metadata": {},
   "outputs": [
    {
     "data": {
      "image/png": "[encoded data removed]",
      "text/plain": [
       "<Figure size 432x288 with 1 Axes>"
      ]
     },
     "metadata": {
      "needs_background": "light"
     },
     "output_type": "display_data"
    }
   ],
   "source": [
    "# 仮想的なサイコロを作って離散一様分布を理解する\n",
    "\n",
    "roll_options = [1,2,3,4,5,6]\n",
    "\n",
    "# 確率の総和\n",
    "tprob = 1\n",
    "\n",
    "# 公正なサイコロ\n",
    "prob_roll = tprob / len(roll_options)\n",
    "\n",
    "uni_plot = plt.bar(roll_options,[prob_roll]*6 )"
   ]
  },
  {
   "cell_type": "code",
   "execution_count": 8,
   "metadata": {},
   "outputs": [],
   "source": [
    "from scipy.stats import randint"
   ]
  },
  {
   "cell_type": "code",
   "execution_count": 9,
   "metadata": {},
   "outputs": [
    {
     "name": "stdout",
     "output_type": "stream",
     "text": [
      "平均3.5 分散2.9166666666666665\n"
     ]
    }
   ],
   "source": [
    "low,high = 1,7\n",
    "\n",
    "mean, var = randint.stats(low,high)\n",
    "print('平均{} 分散{}'.format(mean,var))"
   ]
  },
  {
   "cell_type": "code",
   "execution_count": 10,
   "metadata": {},
   "outputs": [
    {
     "data": {
      "text/plain": [
       "<BarContainer object of 6 artists>"
      ]
     },
     "execution_count": 10,
     "metadata": {},
     "output_type": "execute_result"
    },
    {
     "data": {
      "image/png": "[encoded data removed]",
      "text/plain": [
       "<Figure size 432x288 with 1 Axes>"
      ]
     },
     "metadata": {
      "needs_background": "light"
     },
     "output_type": "display_data"
    }
   ],
   "source": [
    "plt.bar(roll_options, randint.pmf(roll_options,low,high))"
   ]
  },
  {
   "cell_type": "markdown",
   "metadata": {},
   "source": [
    "### 連続一様分布"
   ]
  },
  {
   "cell_type": "code",
   "execution_count": 11,
   "metadata": {},
   "outputs": [],
   "source": [
    "# 連続一様分布では数を無限に細かく区切ることができる\n",
    "# 取りうる値の個数が無限になってしまう => 確率 1/無限 <=> 0　となってしまう"
   ]
  },
  {
   "cell_type": "code",
   "execution_count": 12,
   "metadata": {},
   "outputs": [
    {
     "data": {
      "text/plain": [
       "[<matplotlib.lines.Line2D at 0x1157f1110>]"
      ]
     },
     "execution_count": 12,
     "metadata": {},
     "output_type": "execute_result"
    },
    {
     "data": {
      "image/png": "[encoded data removed]",
      "text/plain": [
       "<Figure size 432x288 with 1 Axes>"
      ]
     },
     "metadata": {
      "needs_background": "light"
     },
     "output_type": "display_data"
    }
   ],
   "source": [
    "from scipy.stats import uniform\n",
    "import numpy as np\n",
    "import matplotlib.pyplot as plt\n",
    "%matplotlib inline\n",
    "\n",
    "# 最小と最大を作ります。\n",
    "A=0\n",
    "B=5\n",
    "\n",
    "# AからBまで100ポイントを作っておきます。\n",
    "x = np.linspace(A,B,100)\n",
    "\n",
    "# 連続一様分布は、uniform(loc=start point,scale=endpoint)で作れます。\n",
    "rv = uniform(loc=A,scale=B)\n",
    "\n",
    "# 確率密度関数（PDF）と累積分布関数（Cumulative Distribution Function)を描いてみます。\n",
    "plt.plot(x,rv.pdf(x))\n",
    "plt.plot(x,rv.cdf(x))"
   ]
  },
  {
   "cell_type": "markdown",
   "metadata": {},
   "source": [
    "### 二項分布"
   ]
  },
  {
   "cell_type": "code",
   "execution_count": 16,
   "metadata": {},
   "outputs": [
    {
     "name": "stdout",
     "output_type": "stream",
     "text": [
      "462.0\n",
      "プレイヤーAが平均的な試合で6回シュートを決める確率は11.08% \n",
      "\n",
      "プレイヤーBが平均的な試合で6回シュートを決める確率は17.02%\n"
     ]
    }
   ],
   "source": [
    "#Aの成功率\n",
    "p_A = .72\n",
    "# シュートの数\n",
    "n_A = 11\n",
    "\n",
    "# 成功数\n",
    "k = 6\n",
    "\n",
    "# 組み合わせを求めるため\n",
    "from scipy.special import comb\n",
    "\n",
    "comb_A = comb(n_A,k)\n",
    "print(comb_A)\n",
    "\n",
    "# これらを掛け合わせれば、確率がでます。\n",
    "answer_A = comb_A * (p_A**k) * ((1-p_A)**(n_A-k))\n",
    "\n",
    "# パーセントで結果を格納しておきます。\n",
    "answer_A = 100*answer_A\n",
    "\n",
    "# Bも同様の計算ができます。\n",
    "p_B = .48\n",
    "n_B = 15\n",
    "comb_B = comb(n_B,k)\n",
    "answer_B = 100 * comb_B * (p_B**k) * ((1-p_B)**(n_B-k))\n",
    "\n",
    "print('プレイヤーAが平均的な試合で6回シュートを決める確率は{:0.2f}% '.format(answer_A))\n",
    "print('')\n",
    "print('プレイヤーBが平均的な試合で6回シュートを決める確率は{:0.2f}%'.format(answer_B))"
   ]
  },
  {
   "cell_type": "code",
   "execution_count": null,
   "metadata": {},
   "outputs": [],
   "source": []
  }
 ],
 "metadata": {
  "kernelspec": {
   "display_name": "Python 3",
   "language": "python",
   "name": "python3"
  },
  "language_info": {
   "codemirror_mode": {
    "name": "ipython",
    "version": 3
   },
   "file_extension": ".py",
   "mimetype": "text/x-python",
   "name": "python",
   "nbconvert_exporter": "python",
   "pygments_lexer": "ipython3",
   "version": "3.7.4"
  }
 },
 "nbformat": 4,
 "nbformat_minor": 2
}
