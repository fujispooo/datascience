{
 "cells": [
  {
   "cell_type": "code",
   "execution_count": 2,
   "metadata": {},
   "outputs": [],
   "source": [
    "# 便利なモジュールを一通りimportしておきます\n",
    "import numpy as np\n",
    "from numpy.random import randn\n",
    "import pandas as pd\n",
    "\n",
    "# 統計的な機能を実現するモジュール\n",
    "from scipy import stats\n",
    "\n",
    "import matplotlib as mpl\n",
    "import matplotlib.pyplot as plt\n",
    "import seaborn as sns\n",
    "\n",
    "%matplotlib inline"
   ]
  },
  {
   "cell_type": "code",
   "execution_count": 3,
   "metadata": {},
   "outputs": [],
   "source": [
    "# 離散一様分布について"
   ]
  },
  {
   "cell_type": "code",
   "execution_count": 7,
   "metadata": {},
   "outputs": [
    {
     "data": {
      "image/png": "[encoded data removed]",
      "text/plain": [
       "<Figure size 432x288 with 1 Axes>"
      ]
     },
     "metadata": {
      "needs_background": "light"
     },
     "output_type": "display_data"
    }
   ],
   "source": [
    "# 仮想的なサイコロを作って離散一様分布を理解する\n",
    "\n",
    "roll_options = [1,2,3,4,5,6]\n",
    "\n",
    "# 確率の総和\n",
    "tprob = 1\n",
    "\n",
    "# 公正なサイコロ\n",
    "prob_roll = tprob / len(roll_options)\n",
    "\n",
    "uni_plot = plt.bar(roll_options,[prob_roll]*6 )"
   ]
  },
  {
   "cell_type": "code",
   "execution_count": 8,
   "metadata": {},
   "outputs": [],
   "source": [
    "from scipy.stats import randint"
   ]
  },
  {
   "cell_type": "code",
   "execution_count": 9,
   "metadata": {},
   "outputs": [
    {
     "name": "stdout",
     "output_type": "stream",
     "text": [
      "平均3.5 分散2.9166666666666665\n"
     ]
    }
   ],
   "source": [
    "low,high = 1,7\n",
    "\n",
    "mean, var = randint.stats(low,high)\n",
    "print('平均{} 分散{}'.format(mean,var))"
   ]
  },
  {
   "cell_type": "code",
   "execution_count": 10,
   "metadata": {},
   "outputs": [
    {
     "data": {
      "text/plain": [
       "<BarContainer object of 6 artists>"
      ]
     },
     "execution_count": 10,
     "metadata": {},
     "output_type": "execute_result"
    },
    {
     "data": {
      "image/png": "[encoded data removed]",
      "text/plain": [
       "<Figure size 432x288 with 1 Axes>"
      ]
     },
     "metadata": {
      "needs_background": "light"
     },
     "output_type": "display_data"
    }
   ],
   "source": [
    "plt.bar(roll_options, randint.pmf(roll_options,low,high))"
   ]
  },
  {
   "cell_type": "markdown",
   "metadata": {},
   "source": [
    "### 連続一様分布"
   ]
  },
  {
   "cell_type": "code",
   "execution_count": 11,
   "metadata": {},
   "outputs": [],
   "source": [
    "# 連続一様分布では数を無限に細かく区切ることができる\n",
    "# 取りうる値の個数が無限になってしまう => 確率 1/無限 <=> 0　となってしまう"
   ]
  },
  {
   "cell_type": "code",
   "execution_count": 12,
   "metadata": {},
   "outputs": [
    {
     "data": {
      "text/plain": [
       "[<matplotlib.lines.Line2D at 0x1157f1110>]"
      ]
     },
     "execution_count": 12,
     "metadata": {},
     "output_type": "execute_result"
    },
    {
     "data": {
      "image/png": "[encoded data removed]",
      "text/plain": [
       "<Figure size 432x288 with 1 Axes>"
      ]
     },
     "metadata": {
      "needs_background": "light"
     },
     "output_type": "display_data"
    }
   ],
   "source": [
    "from scipy.stats import uniform\n",
    "import numpy as np\n",
    "import matplotlib.pyplot as plt\n",
    "%matplotlib inline\n",
    "\n",
    "# 最小と最大を作ります。\n",
    "A=0\n",
    "B=5\n",
    "\n",
    "# AからBまで100ポイントを作っておきます。\n",
    "x = np.linspace(A,B,100)\n",
    "\n",
    "# 連続一様分布は、uniform(loc=start point,scale=endpoint)で作れます。\n",
    "rv = uniform(loc=A,scale=B)\n",
    "\n",
    "# 確率密度関数（PDF）と累積分布関数（Cumulative Distribution Function)を描いてみます。\n",
    "plt.plot(x,rv.pdf(x))\n",
    "plt.plot(x,rv.cdf(x))"
   ]
  },
  {
   "cell_type": "markdown",
   "metadata": {},
   "source": [
    "### 二項分布"
   ]
  },
  {
   "cell_type": "code",
   "execution_count": 16,
   "metadata": {},
   "outputs": [
    {
     "name": "stdout",
     "output_type": "stream",
     "text": [
      "462.0\n",
      "プレイヤーAが平均的な試合で6回シュートを決める確率は11.08% \n",
      "\n",
      "プレイヤーBが平均的な試合で6回シュートを決める確率は17.02%\n"
     ]
    }
   ],
   "source": [
    "#Aの成功率\n",
    "p_A = .72\n",
    "# シュートの数\n",
    "n_A = 11\n",
    "\n",
    "# 成功数\n",
    "k = 6\n",
    "\n",
    "# 組み合わせを求めるため\n",
    "from scipy.special import comb\n",
    "\n",
    "comb_A = comb(n_A,k)\n",
    "print(comb_A)\n",
    "\n",
    "# これらを掛け合わせれば、確率がでます。\n",
    "answer_A = comb_A * (p_A**k) * ((1-p_A)**(n_A-k))\n",
    "\n",
    "# パーセントで結果を格納しておきます。\n",
    "answer_A = 100*answer_A\n",
    "\n",
    "# Bも同様の計算ができます。\n",
    "p_B = .48\n",
    "n_B = 15\n",
    "comb_B = comb(n_B,k)\n",
    "answer_B = 100 * comb_B * (p_B**k) * ((1-p_B)**(n_B-k))\n",
    "\n",
    "print('プレイヤーAが平均的な試合で6回シュートを決める確率は{:0.2f}% '.format(answer_A))\n",
    "print('')\n",
    "print('プレイヤーBが平均的な試合で6回シュートを決める確率は{:0.2f}%'.format(answer_B))"
   ]
  },
  {
   "cell_type": "code",
   "execution_count": 33,
   "metadata": {},
   "outputs": [],
   "source": [
    "answer__A = []\n",
    "answer__B = []\n",
    "\n",
    "k = 6\n",
    "\n",
    "for k in range(11):\n",
    "    p__a = []\n",
    "    p__b = []\n",
    "    \n",
    "    p_B = .48\n",
    "    n_B = 15\n",
    "    comb_B = comb(n_B,k)\n",
    "    p__b.append(k)\n",
    "    p__b.append(100 * comb_B * (p_B**k) * ((1-p_B)**(n_B-k)))\n",
    "    answer__B.append(p__b.copy())\n",
    "\n",
    "    n_A = 11\n",
    "    comb_A = comb(n_A,k)\n",
    "    answer_A = comb_A * (p_A**k) * ((1-p_A)**(n_A-k))\n",
    "    p__a.append(k)\n",
    "    p__a.append(100*answer_A)\n",
    "    answer__A.append(p__a.copy())"
   ]
  },
  {
   "cell_type": "code",
   "execution_count": 34,
   "metadata": {},
   "outputs": [
    {
     "data": {
      "text/plain": [
       "[[0, 8.293509467471881e-05],\n",
       " [1, 0.0023458783922277603],\n",
       " [2, 0.03016129361435691],\n",
       " [3, 0.23267283645361042],\n",
       " [4, 1.1966031589042823],\n",
       " [5, 4.307771372055415],\n",
       " [6, 11.07712638528535],\n",
       " [7, 20.34574234032003],\n",
       " [8, 26.158811580411463],\n",
       " [9, 22.421838497495536],\n",
       " [10, 11.531231227283419]]"
      ]
     },
     "execution_count": 34,
     "metadata": {},
     "output_type": "execute_result"
    }
   ],
   "source": [
    "answer__A"
   ]
  },
  {
   "cell_type": "code",
   "execution_count": 35,
   "metadata": {},
   "outputs": [
    {
     "data": {
      "text/plain": [
       "[[0, 0.005496043412801869],\n",
       " [1, 0.07609906263879511],\n",
       " [2, 0.49171702012759916],\n",
       " [3, 1.9668680805103962],\n",
       " [4, 5.446711607567251],\n",
       " [5, 11.061014341521187],\n",
       " [6, 17.016945140801823],\n",
       " [7, 20.195934892380183],\n",
       " [8, 18.642401439120167],\n",
       " [9, 13.38428821270166],\n",
       " [10, 7.4128365485732255]]"
      ]
     },
     "execution_count": 35,
     "metadata": {},
     "output_type": "execute_result"
    }
   ],
   "source": [
    "answer__B"
   ]
  },
  {
   "cell_type": "code",
   "execution_count": 38,
   "metadata": {},
   "outputs": [
    {
     "data": {
      "text/plain": [
       "[<matplotlib.lines.Line2D at 0x117f12090>,\n",
       " <matplotlib.lines.Line2D at 0x117f12850>]"
      ]
     },
     "execution_count": 38,
     "metadata": {},
     "output_type": "execute_result"
    },
    {
     "data": {
      "image/png": "[encoded data removed]",
      "text/plain": [
       "<Figure size 432x288 with 1 Axes>"
      ]
     },
     "metadata": {
      "needs_background": "light"
     },
     "output_type": "display_data"
    }
   ],
   "source": [
    "plt.plot(answer__A)"
   ]
  },
  {
   "cell_type": "code",
   "execution_count": 39,
   "metadata": {},
   "outputs": [
    {
     "data": {
      "text/plain": [
       "[<matplotlib.lines.Line2D at 0x119053c50>,\n",
       " <matplotlib.lines.Line2D at 0x119053ed0>]"
      ]
     },
     "execution_count": 39,
     "metadata": {},
     "output_type": "execute_result"
    },
    {
     "data": {
      "image/png": "[encoded data removed]",
      "text/plain": [
       "<Figure size 432x288 with 1 Axes>"
      ]
     },
     "metadata": {
      "needs_background": "light"
     },
     "output_type": "display_data"
    }
   ],
   "source": [
    "plt.plot(answer__B)"
   ]
  },
  {
   "cell_type": "markdown",
   "metadata": {},
   "source": [
    "### ポアソン分布"
   ]
  },
  {
   "cell_type": "code",
   "execution_count": 41,
   "metadata": {},
   "outputs": [
    {
     "name": "stdout",
     "output_type": "stream",
     "text": [
      " 昼のピーク時にお客さんが7人である確率は、9.01%です。\n"
     ]
    }
   ],
   "source": [
    "# 残念ながら、lambdaはPythonでは予約語なので、そのまま変数名には使えます。\n",
    "\n",
    "# lambとして、λをセットします。\n",
    "lamb = 10\n",
    "\n",
    "# ちょうど7人来る確率を計算したいので、k=7です。\n",
    "k=7\n",
    "\n",
    "# 標準mathモジュールから、必要なモノをインポート\n",
    "from math import exp\n",
    "from math import factorial\n",
    "\n",
    "# factorial は階乗を計算する\n",
    "\n",
    "# 確率質量関数をつかって確率を計算します。\n",
    "prob = (lamb**k)*exp(-lamb)/factorial(k)\n",
    "\n",
    "print(' 昼のピーク時にお客さんが7人である確率は、{:0.2f}%です。'.format(100*prob))"
   ]
  },
  {
   "cell_type": "code",
   "execution_count": 42,
   "metadata": {},
   "outputs": [
    {
     "name": "stdout",
     "output_type": "stream",
     "text": [
      "ピーク時に7人の確率は9.01％\n",
      "平均=10.0\n"
     ]
    }
   ],
   "source": [
    "# scipy.statsから、 poissonをインポートします\n",
    "from scipy.stats import poisson\n",
    "\n",
    "# 平均は10です。\n",
    "mu = 10\n",
    "\n",
    "# 平均と分散を計算できます。\n",
    "mean,var = poisson.stats(mu)\n",
    "\n",
    "# 確率質量関数を使って、特定の確率を計算することも可能です。\n",
    "odds_seven = poisson.pmf(7,mu)\n",
    "\n",
    "print('ピーク時に7人の確率は{:0.2f}％'.format(odds_seven*100))\n",
    "\n",
    "print('平均={}'.format(mean))"
   ]
  },
  {
   "cell_type": "code",
   "execution_count": 43,
   "metadata": {},
   "outputs": [
    {
     "data": {
      "text/plain": [
       "array([4.53999298e-05, 4.53999298e-04, 2.26999649e-03, 7.56665496e-03,\n",
       "       1.89166374e-02, 3.78332748e-02, 6.30554580e-02, 9.00792257e-02,\n",
       "       1.12599032e-01, 1.25110036e-01, 1.25110036e-01, 1.13736396e-01,\n",
       "       9.47803301e-02, 7.29079462e-02, 5.20771044e-02, 3.47180696e-02,\n",
       "       2.16987935e-02, 1.27639962e-02, 7.09110899e-03, 3.73216263e-03,\n",
       "       1.86608131e-03, 8.88610150e-04, 4.03913704e-04, 1.75614654e-04,\n",
       "       7.31727725e-05, 2.92691090e-05, 1.12573496e-05, 4.16938875e-06,\n",
       "       1.48906741e-06, 5.13471521e-07])"
      ]
     },
     "execution_count": 43,
     "metadata": {},
     "output_type": "execute_result"
    }
   ],
   "source": [
    "# 確率質量関数をプロットしてみましょう。\n",
    "\n",
    "import numpy as np\n",
    "\n",
    "# ひとまず、30人のお客さんが来る確率です。理論的には無限大まであり得ます。\n",
    "k=np.arange(30)\n",
    "\n",
    "# 平均は10です。\n",
    "lamb = 10\n",
    "\n",
    "# これで確率を計算できます。\n",
    "pmf_pois = poisson.pmf(k,lamb)\n",
    "pmf_pois"
   ]
  },
  {
   "cell_type": "code",
   "execution_count": 44,
   "metadata": {},
   "outputs": [
    {
     "data": {
      "text/plain": [
       "<BarContainer object of 30 artists>"
      ]
     },
     "execution_count": 44,
     "metadata": {},
     "output_type": "execute_result"
    },
    {
     "data": {
      "image/png": "[encoded data removed]",
      "text/plain": [
       "<Figure size 432x288 with 1 Axes>"
      ]
     },
     "metadata": {
      "needs_background": "light"
     },
     "output_type": "display_data"
    }
   ],
   "source": [
    "\n",
    "import matplotlib.pyplot as plt\n",
    "import seaborn as sns\n",
    "%matplotlib inline\n",
    "\n",
    "\n",
    "plt.bar(k,pmf_pois)"
   ]
  },
  {
   "cell_type": "markdown",
   "metadata": {},
   "source": [
    "### 正規分布"
   ]
  },
  {
   "cell_type": "code",
   "execution_count": 45,
   "metadata": {},
   "outputs": [
    {
     "data": {
      "text/html": [
       "<img src=\"http://upload.wikimedia.org/wikipedia/commons/thumb/2/25/The_Normal_Distribution.svg/725px-The_Normal_Distribution.svg.png\"/>"
      ],
      "text/plain": [
       "<IPython.core.display.Image object>"
      ]
     },
     "execution_count": 45,
     "metadata": {},
     "output_type": "execute_result"
    }
   ],
   "source": [
    "from IPython.display import Image\n",
    "Image(url='http://upload.wikimedia.org/wikipedia/commons/thumb/2/25/The_Normal_Distribution.svg/725px-The_Normal_Distribution.svg.png')"
   ]
  },
  {
   "cell_type": "code",
   "execution_count": null,
   "metadata": {},
   "outputs": [],
   "source": []
  }
 ],
 "metadata": {
  "kernelspec": {
   "display_name": "Python 3",
   "language": "python",
   "name": "python3"
  },
  "language_info": {
   "codemirror_mode": {
    "name": "ipython",
    "version": 3
   },
   "file_extension": ".py",
   "mimetype": "text/x-python",
   "name": "python",
   "nbconvert_exporter": "python",
   "pygments_lexer": "ipython3",
   "version": "3.7.4"
  }
 },
 "nbformat": 4,
 "nbformat_minor": 2
}
