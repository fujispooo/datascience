{
 "cells": [
  {
   "cell_type": "code",
   "execution_count": 2,
   "metadata": {},
   "outputs": [],
   "source": [
    "import numpy as np\n",
    "import matplotlib.pyplot as plt"
   ]
  },
  {
   "cell_type": "code",
   "execution_count": 5,
   "metadata": {},
   "outputs": [],
   "source": [
    "points = np.arange(-5,5,0.04)\n",
    "\n",
    "# arange()は 指定した範囲のnp配列を生成する\n",
    "# 第一引数　から　第二引数までの数を　第３引数分スライドして生成する"
   ]
  },
  {
   "cell_type": "code",
   "execution_count": 6,
   "metadata": {},
   "outputs": [
    {
     "data": {
      "text/plain": [
       "array([-5.0000000e+00, -4.9600000e+00, -4.9200000e+00, -4.8800000e+00,\n",
       "       -4.8400000e+00, -4.8000000e+00, -4.7600000e+00, -4.7200000e+00,\n",
       "       -4.6800000e+00, -4.6400000e+00, -4.6000000e+00, -4.5600000e+00,\n",
       "       -4.5200000e+00, -4.4800000e+00, -4.4400000e+00, -4.4000000e+00,\n",
       "       -4.3600000e+00, -4.3200000e+00, -4.2800000e+00, -4.2400000e+00,\n",
       "       -4.2000000e+00, -4.1600000e+00, -4.1200000e+00, -4.0800000e+00,\n",
       "       -4.0400000e+00, -4.0000000e+00, -3.9600000e+00, -3.9200000e+00,\n",
       "       -3.8800000e+00, -3.8400000e+00, -3.8000000e+00, -3.7600000e+00,\n",
       "       -3.7200000e+00, -3.6800000e+00, -3.6400000e+00, -3.6000000e+00,\n",
       "       -3.5600000e+00, -3.5200000e+00, -3.4800000e+00, -3.4400000e+00,\n",
       "       -3.4000000e+00, -3.3600000e+00, -3.3200000e+00, -3.2800000e+00,\n",
       "       -3.2400000e+00, -3.2000000e+00, -3.1600000e+00, -3.1200000e+00,\n",
       "       -3.0800000e+00, -3.0400000e+00, -3.0000000e+00, -2.9600000e+00,\n",
       "       -2.9200000e+00, -2.8800000e+00, -2.8400000e+00, -2.8000000e+00,\n",
       "       -2.7600000e+00, -2.7200000e+00, -2.6800000e+00, -2.6400000e+00,\n",
       "       -2.6000000e+00, -2.5600000e+00, -2.5200000e+00, -2.4800000e+00,\n",
       "       -2.4400000e+00, -2.4000000e+00, -2.3600000e+00, -2.3200000e+00,\n",
       "       -2.2800000e+00, -2.2400000e+00, -2.2000000e+00, -2.1600000e+00,\n",
       "       -2.1200000e+00, -2.0800000e+00, -2.0400000e+00, -2.0000000e+00,\n",
       "       -1.9600000e+00, -1.9200000e+00, -1.8800000e+00, -1.8400000e+00,\n",
       "       -1.8000000e+00, -1.7600000e+00, -1.7200000e+00, -1.6800000e+00,\n",
       "       -1.6400000e+00, -1.6000000e+00, -1.5600000e+00, -1.5200000e+00,\n",
       "       -1.4800000e+00, -1.4400000e+00, -1.4000000e+00, -1.3600000e+00,\n",
       "       -1.3200000e+00, -1.2800000e+00, -1.2400000e+00, -1.2000000e+00,\n",
       "       -1.1600000e+00, -1.1200000e+00, -1.0800000e+00, -1.0400000e+00,\n",
       "       -1.0000000e+00, -9.6000000e-01, -9.2000000e-01, -8.8000000e-01,\n",
       "       -8.4000000e-01, -8.0000000e-01, -7.6000000e-01, -7.2000000e-01,\n",
       "       -6.8000000e-01, -6.4000000e-01, -6.0000000e-01, -5.6000000e-01,\n",
       "       -5.2000000e-01, -4.8000000e-01, -4.4000000e-01, -4.0000000e-01,\n",
       "       -3.6000000e-01, -3.2000000e-01, -2.8000000e-01, -2.4000000e-01,\n",
       "       -2.0000000e-01, -1.6000000e-01, -1.2000000e-01, -8.0000000e-02,\n",
       "       -4.0000000e-02,  4.4408921e-15,  4.0000000e-02,  8.0000000e-02,\n",
       "        1.2000000e-01,  1.6000000e-01,  2.0000000e-01,  2.4000000e-01,\n",
       "        2.8000000e-01,  3.2000000e-01,  3.6000000e-01,  4.0000000e-01,\n",
       "        4.4000000e-01,  4.8000000e-01,  5.2000000e-01,  5.6000000e-01,\n",
       "        6.0000000e-01,  6.4000000e-01,  6.8000000e-01,  7.2000000e-01,\n",
       "        7.6000000e-01,  8.0000000e-01,  8.4000000e-01,  8.8000000e-01,\n",
       "        9.2000000e-01,  9.6000000e-01,  1.0000000e+00,  1.0400000e+00,\n",
       "        1.0800000e+00,  1.1200000e+00,  1.1600000e+00,  1.2000000e+00,\n",
       "        1.2400000e+00,  1.2800000e+00,  1.3200000e+00,  1.3600000e+00,\n",
       "        1.4000000e+00,  1.4400000e+00,  1.4800000e+00,  1.5200000e+00,\n",
       "        1.5600000e+00,  1.6000000e+00,  1.6400000e+00,  1.6800000e+00,\n",
       "        1.7200000e+00,  1.7600000e+00,  1.8000000e+00,  1.8400000e+00,\n",
       "        1.8800000e+00,  1.9200000e+00,  1.9600000e+00,  2.0000000e+00,\n",
       "        2.0400000e+00,  2.0800000e+00,  2.1200000e+00,  2.1600000e+00,\n",
       "        2.2000000e+00,  2.2400000e+00,  2.2800000e+00,  2.3200000e+00,\n",
       "        2.3600000e+00,  2.4000000e+00,  2.4400000e+00,  2.4800000e+00,\n",
       "        2.5200000e+00,  2.5600000e+00,  2.6000000e+00,  2.6400000e+00,\n",
       "        2.6800000e+00,  2.7200000e+00,  2.7600000e+00,  2.8000000e+00,\n",
       "        2.8400000e+00,  2.8800000e+00,  2.9200000e+00,  2.9600000e+00,\n",
       "        3.0000000e+00,  3.0400000e+00,  3.0800000e+00,  3.1200000e+00,\n",
       "        3.1600000e+00,  3.2000000e+00,  3.2400000e+00,  3.2800000e+00,\n",
       "        3.3200000e+00,  3.3600000e+00,  3.4000000e+00,  3.4400000e+00,\n",
       "        3.4800000e+00,  3.5200000e+00,  3.5600000e+00,  3.6000000e+00,\n",
       "        3.6400000e+00,  3.6800000e+00,  3.7200000e+00,  3.7600000e+00,\n",
       "        3.8000000e+00,  3.8400000e+00,  3.8800000e+00,  3.9200000e+00,\n",
       "        3.9600000e+00,  4.0000000e+00,  4.0400000e+00,  4.0800000e+00,\n",
       "        4.1200000e+00,  4.1600000e+00,  4.2000000e+00,  4.2400000e+00,\n",
       "        4.2800000e+00,  4.3200000e+00,  4.3600000e+00,  4.4000000e+00,\n",
       "        4.4400000e+00,  4.4800000e+00,  4.5200000e+00,  4.5600000e+00,\n",
       "        4.6000000e+00,  4.6400000e+00,  4.6800000e+00,  4.7200000e+00,\n",
       "        4.7600000e+00,  4.8000000e+00,  4.8400000e+00,  4.8800000e+00,\n",
       "        4.9200000e+00,  4.9600000e+00])"
      ]
     },
     "execution_count": 6,
     "metadata": {},
     "output_type": "execute_result"
    }
   ],
   "source": [
    "points"
   ]
  },
  {
   "cell_type": "code",
   "execution_count": 7,
   "metadata": {},
   "outputs": [],
   "source": [
    "dx , dy = np.meshgrid(points, points)"
   ]
  },
  {
   "cell_type": "code",
   "execution_count": 18,
   "metadata": {},
   "outputs": [],
   "source": [
    "ds  = np.meshgrid(points, points)\n",
    "dx_ = ds[1]"
   ]
  },
  {
   "cell_type": "code",
   "execution_count": 8,
   "metadata": {},
   "outputs": [
    {
     "data": {
      "text/plain": [
       "array([[-5.  , -4.96, -4.92, ...,  4.88,  4.92,  4.96],\n",
       "       [-5.  , -4.96, -4.92, ...,  4.88,  4.92,  4.96],\n",
       "       [-5.  , -4.96, -4.92, ...,  4.88,  4.92,  4.96],\n",
       "       ...,\n",
       "       [-5.  , -4.96, -4.92, ...,  4.88,  4.92,  4.96],\n",
       "       [-5.  , -4.96, -4.92, ...,  4.88,  4.92,  4.96],\n",
       "       [-5.  , -4.96, -4.92, ...,  4.88,  4.92,  4.96]])"
      ]
     },
     "execution_count": 8,
     "metadata": {},
     "output_type": "execute_result"
    }
   ],
   "source": [
    "dx"
   ]
  },
  {
   "cell_type": "code",
   "execution_count": 11,
   "metadata": {},
   "outputs": [
    {
     "data": {
      "text/plain": [
       "<matplotlib.image.AxesImage at 0x10e0f17d0>"
      ]
     },
     "execution_count": 11,
     "metadata": {},
     "output_type": "execute_result"
    },
    {
     "data": {
      "image/png": "[encoded data removed]",
      "text/plain": [
       "<Figure size 432x288 with 1 Axes>"
      ]
     },
     "metadata": {
      "needs_background": "light"
     },
     "output_type": "display_data"
    }
   ],
   "source": [
    "plt.imshow(dx)\n",
    "\n",
    "# np配列が列方向に積み重なっている"
   ]
  },
  {
   "cell_type": "code",
   "execution_count": 21,
   "metadata": {},
   "outputs": [
    {
     "data": {
      "text/plain": [
       "<matplotlib.image.AxesImage at 0x10f629e10>"
      ]
     },
     "execution_count": 21,
     "metadata": {},
     "output_type": "execute_result"
    },
    {
     "data": {
      "image/png": "[encoded data removed]",
      "text/plain": [
       "<Figure size 432x288 with 1 Axes>"
      ]
     },
     "metadata": {
      "needs_background": "light"
     },
     "output_type": "display_data"
    }
   ],
   "source": [
    "plt.imshow(dy)\n",
    "\n",
    "# np配列が行方向に積み重なっている"
   ]
  },
  {
   "cell_type": "code",
   "execution_count": 19,
   "metadata": {},
   "outputs": [
    {
     "data": {
      "text/plain": [
       "array([[-5.  , -5.  , -5.  , ..., -5.  , -5.  , -5.  ],\n",
       "       [-4.96, -4.96, -4.96, ..., -4.96, -4.96, -4.96],\n",
       "       [-4.92, -4.92, -4.92, ..., -4.92, -4.92, -4.92],\n",
       "       ...,\n",
       "       [ 4.88,  4.88,  4.88, ...,  4.88,  4.88,  4.88],\n",
       "       [ 4.92,  4.92,  4.92, ...,  4.92,  4.92,  4.92],\n",
       "       [ 4.96,  4.96,  4.96, ...,  4.96,  4.96,  4.96]])"
      ]
     },
     "execution_count": 19,
     "metadata": {},
     "output_type": "execute_result"
    }
   ],
   "source": [
    "dx_"
   ]
  },
  {
   "cell_type": "code",
   "execution_count": 20,
   "metadata": {},
   "outputs": [
    {
     "data": {
      "text/plain": [
       "<matplotlib.image.AxesImage at 0x10fdfe310>"
      ]
     },
     "execution_count": 20,
     "metadata": {},
     "output_type": "execute_result"
    },
    {
     "data": {
      "image/png": "[encoded data removed]",
      "text/plain": [
       "<Figure size 432x288 with 1 Axes>"
      ]
     },
     "metadata": {
      "needs_background": "light"
     },
     "output_type": "display_data"
    }
   ],
   "source": [
    "plt.imshow(dx_)"
   ]
  },
  {
   "cell_type": "code",
   "execution_count": 7,
   "metadata": {},
   "outputs": [],
   "source": [
    "dy = dy + 3"
   ]
  },
  {
   "cell_type": "code",
   "execution_count": 8,
   "metadata": {},
   "outputs": [
    {
     "data": {
      "text/plain": [
       "<matplotlib.image.AxesImage at 0x118bcc1d0>"
      ]
     },
     "execution_count": 8,
     "metadata": {},
     "output_type": "execute_result"
    },
    {
     "data": {
      "image/png": "[encoded data removed]",
      "text/plain": [
       "<Figure size 432x288 with 1 Axes>"
      ]
     },
     "metadata": {
      "needs_background": "light"
     },
     "output_type": "display_data"
    }
   ],
   "source": [
    "plt.imshow(dy)"
   ]
  },
  {
   "cell_type": "code",
   "execution_count": 10,
   "metadata": {},
   "outputs": [],
   "source": [
    "Z = np.sin(dx)+ np.sin(dy)"
   ]
  },
  {
   "cell_type": "code",
   "execution_count": 14,
   "metadata": {},
   "outputs": [
    {
     "data": {
      "text/plain": [
       "Text(0.5, 1.0, 'Z = sin(dx)+sin(dy)')"
      ]
     },
     "execution_count": 14,
     "metadata": {},
     "output_type": "execute_result"
    },
    {
     "data": {
      "image/png": "[encoded data removed]",
      "text/plain": [
       "<Figure size 432x288 with 2 Axes>"
      ]
     },
     "metadata": {
      "needs_background": "light"
     },
     "output_type": "display_data"
    }
   ],
   "source": [
    "plt.imshow(Z)\n",
    "plt.colorbar()\n",
    "plt.title('Z = sin(dx)+sin(dy)')"
   ]
  },
  {
   "cell_type": "code",
   "execution_count": 15,
   "metadata": {},
   "outputs": [],
   "source": [
    "A = np.array([1,2,3,4])\n",
    "B = np.array([1000,2000,3000,4000])"
   ]
  },
  {
   "cell_type": "code",
   "execution_count": 16,
   "metadata": {},
   "outputs": [],
   "source": [
    "condition = np.array([True,True,False,False])"
   ]
  },
  {
   "cell_type": "markdown",
   "metadata": {},
   "source": [
    "### リスト内包表記 速度が遅い、多次元に対応できない"
   ]
  },
  {
   "cell_type": "code",
   "execution_count": 17,
   "metadata": {},
   "outputs": [],
   "source": [
    "# zip はそれぞれの引数内の要素を一つずつ渡していくもの\n",
    "# [(for文の処理の中身)　for 文のループ毎に渡される変数 in 渡される変数に格納する元の要素を持った配列]\n",
    "answer = [(a if cond else b) for a,b,cond in zip(A,B,condition)]"
   ]
  },
  {
   "cell_type": "code",
   "execution_count": 18,
   "metadata": {},
   "outputs": [
    {
     "data": {
      "text/plain": [
       "[1, 2, 3000, 4000]"
      ]
     },
     "execution_count": 18,
     "metadata": {},
     "output_type": "execute_result"
    }
   ],
   "source": [
    "answer"
   ]
  },
  {
   "cell_type": "markdown",
   "metadata": {},
   "source": [
    "### 二次元の配列に使える"
   ]
  },
  {
   "cell_type": "code",
   "execution_count": 21,
   "metadata": {},
   "outputs": [],
   "source": [
    "answer2 = np.where(condition,A,B)"
   ]
  },
  {
   "cell_type": "code",
   "execution_count": 22,
   "metadata": {},
   "outputs": [
    {
     "data": {
      "text/plain": [
       "array([   1,    2, 3000, 4000])"
      ]
     },
     "execution_count": 22,
     "metadata": {},
     "output_type": "execute_result"
    }
   ],
   "source": [
    "answer2"
   ]
  },
  {
   "cell_type": "code",
   "execution_count": 23,
   "metadata": {},
   "outputs": [],
   "source": [
    "from numpy.random import randn"
   ]
  },
  {
   "cell_type": "code",
   "execution_count": 24,
   "metadata": {},
   "outputs": [],
   "source": [
    "arr = randn(5,5)"
   ]
  },
  {
   "cell_type": "code",
   "execution_count": 25,
   "metadata": {},
   "outputs": [
    {
     "data": {
      "text/plain": [
       "array([[-2.72884687, -0.23072115, -0.22473679,  0.93681824, -0.79413029],\n",
       "       [ 1.37946079, -0.25467174, -0.01319728,  0.57073263, -1.0800193 ],\n",
       "       [ 0.10108943, -0.7274346 , -1.89252291,  0.57277333,  0.01221063],\n",
       "       [ 0.76355299, -0.01716773,  0.34832813, -0.179173  , -0.13410306],\n",
       "       [ 0.61436445,  0.80670041, -0.06673826, -1.45940507, -0.06597895]])"
      ]
     },
     "execution_count": 25,
     "metadata": {},
     "output_type": "execute_result"
    }
   ],
   "source": [
    "arr"
   ]
  },
  {
   "cell_type": "code",
   "execution_count": 28,
   "metadata": {},
   "outputs": [],
   "source": [
    "arr = np.where((arr < 0),0,arr)"
   ]
  },
  {
   "cell_type": "markdown",
   "metadata": {},
   "source": [
    "### where(条件式,Trueだった時の値,Falseだった時の値)"
   ]
  },
  {
   "cell_type": "code",
   "execution_count": 29,
   "metadata": {},
   "outputs": [
    {
     "data": {
      "text/plain": [
       "array([[0.        , 0.        , 0.        , 0.93681824, 0.        ],\n",
       "       [1.37946079, 0.        , 0.        , 0.57073263, 0.        ],\n",
       "       [0.10108943, 0.        , 0.        , 0.57277333, 0.01221063],\n",
       "       [0.76355299, 0.        , 0.34832813, 0.        , 0.        ],\n",
       "       [0.61436445, 0.80670041, 0.        , 0.        , 0.        ]])"
      ]
     },
     "execution_count": 29,
     "metadata": {},
     "output_type": "execute_result"
    }
   ],
   "source": [
    "arr"
   ]
  },
  {
   "cell_type": "code",
   "execution_count": 44,
   "metadata": {},
   "outputs": [],
   "source": [
    "arr2 = np.array([[[1,2,3],[4,5,6],[7,8,9]],[[10,11,12],[13,14,15],[16,17,18]]])"
   ]
  },
  {
   "cell_type": "code",
   "execution_count": 45,
   "metadata": {},
   "outputs": [
    {
     "data": {
      "text/plain": [
       "array([[[ 1,  2,  3],\n",
       "        [ 4,  5,  6],\n",
       "        [ 7,  8,  9]],\n",
       "\n",
       "       [[10, 11, 12],\n",
       "        [13, 14, 15],\n",
       "        [16, 17, 18]]])"
      ]
     },
     "execution_count": 45,
     "metadata": {},
     "output_type": "execute_result"
    }
   ],
   "source": [
    "arr2"
   ]
  },
  {
   "cell_type": "code",
   "execution_count": 46,
   "metadata": {},
   "outputs": [],
   "source": [
    "arr_sum = np.sum(arr2)"
   ]
  },
  {
   "cell_type": "code",
   "execution_count": 47,
   "metadata": {},
   "outputs": [
    {
     "data": {
      "text/plain": [
       "171"
      ]
     },
     "execution_count": 47,
     "metadata": {},
     "output_type": "execute_result"
    }
   ],
   "source": [
    "arr_sum"
   ]
  },
  {
   "cell_type": "markdown",
   "metadata": {},
   "source": [
    "### sum()関数について"
   ]
  },
  {
   "cell_type": "markdown",
   "metadata": {},
   "source": [
    "2次元配列の時に0を渡すと列を足したもの、1を渡す行を足したものを取得できる"
   ]
  },
  {
   "cell_type": "markdown",
   "metadata": {},
   "source": [
    "#### 3次元配列の時の考察"
   ]
  },
  {
   "cell_type": "markdown",
   "metadata": {},
   "source": [
    "0を渡すと全ての用を足し合わせた配列が帰ってくる"
   ]
  },
  {
   "cell_type": "code",
   "execution_count": 57,
   "metadata": {},
   "outputs": [
    {
     "data": {
      "text/plain": [
       "array([[11, 13, 15],\n",
       "       [17, 19, 21],\n",
       "       [23, 25, 27]])"
      ]
     },
     "execution_count": 57,
     "metadata": {},
     "output_type": "execute_result"
    }
   ],
   "source": [
    "arr2.sum(0)"
   ]
  },
  {
   "cell_type": "markdown",
   "metadata": {},
   "source": [
    "1を渡すとそれぞれのnp配列の列を足し合わせたものが帰ってくる"
   ]
  },
  {
   "cell_type": "code",
   "execution_count": 55,
   "metadata": {},
   "outputs": [
    {
     "data": {
      "text/plain": [
       "array([[12, 15, 18],\n",
       "       [39, 42, 45]])"
      ]
     },
     "execution_count": 55,
     "metadata": {},
     "output_type": "execute_result"
    }
   ],
   "source": [
    "arr2.sum(1)"
   ]
  },
  {
   "cell_type": "markdown",
   "metadata": {},
   "source": [
    "2を渡すとそれぞれのnp配列の行を足し合わせたものが帰ってくる"
   ]
  },
  {
   "cell_type": "code",
   "execution_count": 56,
   "metadata": {},
   "outputs": [
    {
     "data": {
      "text/plain": [
       "array([[ 6, 15, 24],\n",
       "       [33, 42, 51]])"
      ]
     },
     "execution_count": 56,
     "metadata": {},
     "output_type": "execute_result"
    }
   ],
   "source": [
    "arr2.sum(2)"
   ]
  },
  {
   "cell_type": "markdown",
   "metadata": {},
   "source": [
    "平均値"
   ]
  },
  {
   "cell_type": "code",
   "execution_count": 58,
   "metadata": {},
   "outputs": [
    {
     "data": {
      "text/plain": [
       "9.5"
      ]
     },
     "execution_count": 58,
     "metadata": {},
     "output_type": "execute_result"
    }
   ],
   "source": [
    "arr2.mean()"
   ]
  },
  {
   "cell_type": "markdown",
   "metadata": {},
   "source": [
    "標準偏差"
   ]
  },
  {
   "cell_type": "code",
   "execution_count": 59,
   "metadata": {},
   "outputs": [
    {
     "data": {
      "text/plain": [
       "5.188127472091127"
      ]
     },
     "execution_count": 59,
     "metadata": {},
     "output_type": "execute_result"
    }
   ],
   "source": [
    "arr2.std()"
   ]
  },
  {
   "cell_type": "markdown",
   "metadata": {},
   "source": [
    "分散"
   ]
  },
  {
   "cell_type": "code",
   "execution_count": 60,
   "metadata": {},
   "outputs": [
    {
     "data": {
      "text/plain": [
       "26.916666666666668"
      ]
     },
     "execution_count": 60,
     "metadata": {},
     "output_type": "execute_result"
    }
   ],
   "source": [
    "arr2.var()"
   ]
  },
  {
   "cell_type": "code",
   "execution_count": 61,
   "metadata": {},
   "outputs": [],
   "source": [
    "bool_arr = np.array([True,True,False])"
   ]
  },
  {
   "cell_type": "code",
   "execution_count": 62,
   "metadata": {},
   "outputs": [
    {
     "data": {
      "text/plain": [
       "array([ True,  True, False])"
      ]
     },
     "execution_count": 62,
     "metadata": {},
     "output_type": "execute_result"
    }
   ],
   "source": [
    "bool_arr"
   ]
  },
  {
   "cell_type": "markdown",
   "metadata": {},
   "source": [
    "どれかがTrueであるかどうか"
   ]
  },
  {
   "cell_type": "code",
   "execution_count": 63,
   "metadata": {},
   "outputs": [
    {
     "data": {
      "text/plain": [
       "True"
      ]
     },
     "execution_count": 63,
     "metadata": {},
     "output_type": "execute_result"
    }
   ],
   "source": [
    "bool_arr.any()"
   ]
  },
  {
   "cell_type": "markdown",
   "metadata": {},
   "source": [
    "全てがTrueであるかどうか"
   ]
  },
  {
   "cell_type": "code",
   "execution_count": 64,
   "metadata": {},
   "outputs": [
    {
     "data": {
      "text/plain": [
       "False"
      ]
     },
     "execution_count": 64,
     "metadata": {},
     "output_type": "execute_result"
    }
   ],
   "source": [
    "bool_arr.all()"
   ]
  },
  {
   "cell_type": "code",
   "execution_count": 65,
   "metadata": {},
   "outputs": [],
   "source": [
    "arr = randn(5)"
   ]
  },
  {
   "cell_type": "code",
   "execution_count": 66,
   "metadata": {},
   "outputs": [
    {
     "data": {
      "text/plain": [
       "array([ 1.73577721,  1.68412662,  0.2455312 , -1.18739926, -2.14597836])"
      ]
     },
     "execution_count": 66,
     "metadata": {},
     "output_type": "execute_result"
    }
   ],
   "source": [
    "arr"
   ]
  },
  {
   "cell_type": "code",
   "execution_count": 67,
   "metadata": {},
   "outputs": [],
   "source": [
    "arr.sort()"
   ]
  },
  {
   "cell_type": "code",
   "execution_count": 68,
   "metadata": {},
   "outputs": [
    {
     "data": {
      "text/plain": [
       "array([-2.14597836, -1.18739926,  0.2455312 ,  1.68412662,  1.73577721])"
      ]
     },
     "execution_count": 68,
     "metadata": {},
     "output_type": "execute_result"
    }
   ],
   "source": [
    "arr"
   ]
  },
  {
   "cell_type": "code",
   "execution_count": 71,
   "metadata": {},
   "outputs": [],
   "source": [
    "arrr = randn(5,5,5)"
   ]
  },
  {
   "cell_type": "code",
   "execution_count": 72,
   "metadata": {},
   "outputs": [
    {
     "data": {
      "text/plain": [
       "array([[[ 0.24255935,  1.40511292, -1.73166704, -0.44513111,\n",
       "          0.37048217],\n",
       "        [-0.50552283, -1.85290582,  0.35866047,  1.03994769,\n",
       "         -0.22783432],\n",
       "        [-0.088285  ,  1.99118957, -0.09153473,  0.9963312 ,\n",
       "          0.21717601],\n",
       "        [-1.27301153,  0.68623257, -1.83564104,  1.50019111,\n",
       "          0.44573267],\n",
       "        [-0.22540888,  0.45936934, -0.54082709, -1.39827759,\n",
       "         -0.36276052]],\n",
       "\n",
       "       [[ 1.40218144,  0.61908725, -0.20538615,  0.94842746,\n",
       "          0.03602335],\n",
       "        [-0.8665001 ,  0.65219007,  0.31090751,  0.59028166,\n",
       "          1.32837933],\n",
       "        [ 0.67415044,  0.18055099,  0.02888789,  0.41568385,\n",
       "         -1.56038467],\n",
       "        [-2.50998858, -0.8977214 , -0.53516657,  0.53087154,\n",
       "          0.2787884 ],\n",
       "        [-0.41097041, -0.8246058 , -0.36722102, -0.40949552,\n",
       "          0.45185742]],\n",
       "\n",
       "       [[ 0.0683213 ,  0.05014954,  0.37930466, -0.42760636,\n",
       "          0.64303534],\n",
       "        [ 1.64307435, -0.58157585,  0.90730525,  0.00852488,\n",
       "          0.48179835],\n",
       "        [ 1.84536531,  2.10761301, -1.71600257,  0.38964936,\n",
       "          0.2944488 ],\n",
       "        [ 0.52964157, -1.05939858,  0.51154111, -1.30848811,\n",
       "         -0.52652505],\n",
       "        [ 0.90731743, -1.07197743,  0.76678545, -1.22810578,\n",
       "         -0.06189728]],\n",
       "\n",
       "       [[ 1.78085371, -0.68951194,  0.69796567,  0.02649749,\n",
       "          0.48861708],\n",
       "        [-0.53353695,  0.27206655, -1.09151417,  1.21344278,\n",
       "          0.87105479],\n",
       "        [ 0.92976657,  1.9508422 , -0.47992535, -0.76433029,\n",
       "         -0.61597063],\n",
       "        [ 1.79333429, -0.18551565,  0.91573294, -0.44247173,\n",
       "          0.28586894],\n",
       "        [ 0.57853757, -1.79945238, -0.02564004,  0.70051161,\n",
       "         -0.17567201]],\n",
       "\n",
       "       [[-1.98465319, -1.99183284,  1.23118637, -0.02929725,\n",
       "          0.25093213],\n",
       "        [-1.77270122,  1.12320327, -0.83744217, -0.32391727,\n",
       "          0.16758707],\n",
       "        [ 0.8448744 ,  0.18576946,  0.77209426, -0.35016962,\n",
       "         -1.3106023 ],\n",
       "        [ 0.53721804,  0.75158228,  0.84259252,  1.19285783,\n",
       "          1.61906074],\n",
       "        [ 1.198882  ,  0.32197122, -0.01160933,  0.99350438,\n",
       "         -0.80596793]]])"
      ]
     },
     "execution_count": 72,
     "metadata": {},
     "output_type": "execute_result"
    }
   ],
   "source": [
    "arrr"
   ]
  },
  {
   "cell_type": "code",
   "execution_count": null,
   "metadata": {},
   "outputs": [],
   "source": []
  }
 ],
 "metadata": {
  "kernelspec": {
   "display_name": "Python 3",
   "language": "python",
   "name": "python3"
  },
  "language_info": {
   "codemirror_mode": {
    "name": "ipython",
    "version": 3
   },
   "file_extension": ".py",
   "mimetype": "text/x-python",
   "name": "python",
   "nbconvert_exporter": "python",
   "pygments_lexer": "ipython3",
   "version": "3.7.4"
  }
 },
 "nbformat": 4,
 "nbformat_minor": 2
}
